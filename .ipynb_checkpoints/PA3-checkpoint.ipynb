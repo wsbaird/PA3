{
 "cells": [
  {
   "cell_type": "code",
   "execution_count": 50,
   "metadata": {},
   "outputs": [],
   "source": [
    "import math as math\n",
    "import random as rand"
   ]
  },
  {
   "cell_type": "code",
   "execution_count": 48,
   "metadata": {},
   "outputs": [],
   "source": [
    "def calcPerimeter():\n",
    "    global per\n",
    "    per = a + b + c\n",
    "def calcArea():\n",
    "    global area\n",
    "    p = per//2\n",
    "    area = float(math.sqrt(p*(p-a)*(p-b)*(p-c)))"
   ]
  },
  {
   "cell_type": "code",
   "execution_count": 49,
   "metadata": {},
   "outputs": [
    {
     "name": "stdout",
     "output_type": "stream",
     "text": [
      "Enter the Length of Side A:3\n",
      "Enter the Length of Side B:6\n",
      "Enter the Length of Side C:9\n",
      "The area is 0.0 square units.\n",
      "The perimeter is 18.0 units.\n"
     ]
    }
   ],
   "source": [
    "a = float(input(\"Enter the Length of Side A:\"))\n",
    "b = float(input(\"Enter the Length of Side B:\"))\n",
    "c = float(input(\"Enter the Length of Side C:\"))\n",
    "if a<1:\n",
    "    a = 1\n",
    "if b<1:\n",
    "    b = 1\n",
    "if c<1:\n",
    "    c = 1\n",
    "\n",
    "calcPerimeter()\n",
    "calcArea()\n",
    "print (\"The area is\", area, \"square units.\")\n",
    "print (\"The perimeter is\", per, \"units.\")"
   ]
  },
  {
   "cell_type": "code",
   "execution_count": 59,
   "metadata": {},
   "outputs": [
    {
     "name": "stdout",
     "output_type": "stream",
     "text": [
      "Enter your guess:300\n",
      "Too low, try again!\n",
      "Enter your guess:400\n",
      "Too low, try again!\n",
      "Enter your guess:500\n",
      "Too low, try again!\n",
      "Enter your guess:600\n",
      "Too low, try again!\n",
      "Enter your guess:700\n",
      "Too high, try again!\n",
      "Enter your guess:650\n",
      "Too low, try again!\n",
      "Enter your guess:675\n",
      "Too high, try again!\n",
      "Enter your guess:660\n",
      "Too low, try again!\n",
      "Enter your guess:665\n",
      "Too low, try again!\n",
      "Enter your guess:670\n",
      "Too low, try again!\n",
      "Enter your guess:671\n",
      "Too low, try again!\n",
      "Enter your guess:672\n",
      "Too low, try again!\n",
      "Enter your guess:673\n",
      "Correct!\n"
     ]
    }
   ],
   "source": [
    "num = rand.randint(1, 1000)\n",
    "guess= int(input(\"Enter your guess:\"))\n",
    "while guess != num:\n",
    "    if guess > num:\n",
    "        print(\"Too high, try again!\")\n",
    "        guess= int(input(\"Enter your guess:\"))\n",
    "    if guess < num:\n",
    "        print(\"Too low, try again!\")\n",
    "        guess= int(input(\"Enter your guess:\"))\n",
    "if guess == num:\n",
    "    print(\"Correct!\")"
   ]
  },
  {
   "cell_type": "code",
   "execution_count": 60,
   "metadata": {},
   "outputs": [],
   "source": [
    "import statistics as stats\n",
    "def meanTemp(templist) :\n",
    "    tempmean = stats.mean(templist)"
   ]
  },
  {
   "cell_type": "code",
   "execution_count": null,
   "metadata": {},
   "outputs": [],
   "source": []
  }
 ],
 "metadata": {
  "kernelspec": {
   "display_name": "Python 3",
   "language": "python",
   "name": "python3"
  },
  "language_info": {
   "codemirror_mode": {
    "name": "ipython",
    "version": 3
   },
   "file_extension": ".py",
   "mimetype": "text/x-python",
   "name": "python",
   "nbconvert_exporter": "python",
   "pygments_lexer": "ipython3",
   "version": "3.8.3"
  }
 },
 "nbformat": 4,
 "nbformat_minor": 4
}
